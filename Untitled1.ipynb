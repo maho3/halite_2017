{
 "cells": [
  {
   "cell_type": "code",
   "execution_count": 2,
   "metadata": {},
   "outputs": [],
   "source": [
    "import numpy as np"
   ]
  },
  {
   "cell_type": "code",
   "execution_count": 44,
   "metadata": {},
   "outputs": [],
   "source": [
    "class Node:\n",
    "    pos = (0,0)\n",
    "    def __init__(self, pos, nbors):\n",
    "        self.pos = pos\n",
    "        self.neighbors = nbors\n",
    "        \n",
    "    def dist(self,target):\n",
    "        return np.sqrt((self.pos[0] - target.pos[0])**2 + (self.pos[1] - target.pos[1])**2)\n",
    "    \n",
    "class NodeMap:\n",
    "    def __init__(self, size, spc, noderad):\n",
    "        self.dim = (int(size[0]/spc),int(size[1]/spc))\n",
    "        self.size = size\n",
    "        self.spc = self.size[0]/self.dim[0]\n",
    "        \n",
    "        self.map = np.ndarray(self.dim, dtype=Node)\n",
    "        \n",
    "        unitrad = int(noderad/self.spc)\n",
    "        for i in range(self.dim[0]):\n",
    "            for j in range(self.dim[1]):\n",
    "                p = (i*self.spc, j*self.spc)\n",
    "                \n",
    "                self.map[i,j] = Node(pos = p,\n",
    "                                     nbors = [(m,n) \n",
    "                                              for m in (self.spc*np.arange(-unitrad,unitrad+1) + p[0])\n",
    "                                              for n in (self.spc*np.arange(-unitrad,unitrad+1) + p[1])\n",
    "                                              if ((not((m == p[0]) and (n == p[1]))) and \n",
    "                                                  (((m - p[0])**2 + (n-p[1])**2)<=noderad**2) and\n",
    "                                                  (m >= 0) and (n >= 0) and (m <= self.size[0]) and \n",
    "                                                  (n<=self.size[1])\n",
    "                                                 )\n",
    "                                              \n",
    "                                             ]\n",
    "                                    \n",
    "                                    )"
   ]
  },
  {
   "cell_type": "code",
   "execution_count": 8,
   "metadata": {},
   "outputs": [
    {
     "data": {
      "text/plain": [
       "4.2426406871192848"
      ]
     },
     "execution_count": 8,
     "metadata": {},
     "output_type": "execute_result"
    }
   ],
   "source": [
    "a = Node((1,2))\n",
    "b = Node((4,5))\n",
    "a.dist(b)"
   ]
  },
  {
   "cell_type": "code",
   "execution_count": 11,
   "metadata": {},
   "outputs": [],
   "source": [
    "y = np.ndarray((3,3),dtype=Node)"
   ]
  },
  {
   "cell_type": "code",
   "execution_count": 19,
   "metadata": {},
   "outputs": [],
   "source": [
    "y[(1,2)] = Node((1,1))"
   ]
  },
  {
   "cell_type": "code",
   "execution_count": 20,
   "metadata": {},
   "outputs": [
    {
     "data": {
      "text/plain": [
       "array([[None, None, None],\n",
       "       [None, None, <__main__.Node object at 0x7f802412bda0>],\n",
       "       [None, None, None]], dtype=object)"
      ]
     },
     "execution_count": 20,
     "metadata": {},
     "output_type": "execute_result"
    }
   ],
   "source": [
    "y\n"
   ]
  },
  {
   "cell_type": "code",
   "execution_count": 51,
   "metadata": {},
   "outputs": [],
   "source": [
    "t = NodeMap((460,500),1,7)"
   ]
  },
  {
   "cell_type": "code",
   "execution_count": 52,
   "metadata": {},
   "outputs": [
    {
     "data": {
      "text/plain": [
       "132"
      ]
     },
     "execution_count": 52,
     "metadata": {},
     "output_type": "execute_result"
    }
   ],
   "source": [
    "len(t.map[5,5].neighbors)"
   ]
  },
  {
   "cell_type": "code",
   "execution_count": 49,
   "metadata": {},
   "outputs": [
    {
     "ename": "SyntaxError",
     "evalue": "invalid syntax (<ipython-input-49-a35077a93b18>, line 1)",
     "output_type": "error",
     "traceback": [
      "\u001b[0;36m  File \u001b[0;32m\"<ipython-input-49-a35077a93b18>\"\u001b[0;36m, line \u001b[0;32m1\u001b[0m\n\u001b[0;31m    )\u001b[0m\n\u001b[0m    ^\u001b[0m\n\u001b[0;31mSyntaxError\u001b[0m\u001b[0;31m:\u001b[0m invalid syntax\n"
     ]
    }
   ],
   "source": [
    ")"
   ]
  },
  {
   "cell_type": "code",
   "execution_count": null,
   "metadata": {},
   "outputs": [],
   "source": []
  }
 ],
 "metadata": {
  "kernelspec": {
   "display_name": "Python 3",
   "language": "python",
   "name": "python3"
  },
  "language_info": {
   "codemirror_mode": {
    "name": "ipython",
    "version": 3
   },
   "file_extension": ".py",
   "mimetype": "text/x-python",
   "name": "python",
   "nbconvert_exporter": "python",
   "pygments_lexer": "ipython3",
   "version": "3.6.2"
  }
 },
 "nbformat": 4,
 "nbformat_minor": 2
}
