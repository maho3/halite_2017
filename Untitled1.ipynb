{
 "cells": [
  {
   "cell_type": "code",
   "execution_count": 1,
   "metadata": {},
   "outputs": [],
   "source": [
    "import numpy as np\n",
    "import hlt"
   ]
  },
  {
   "cell_type": "code",
   "execution_count": 2,
   "metadata": {},
   "outputs": [],
   "source": [
    "class Node:\n",
    "    pos = (0,0)\n",
    "    def __init__(self, pos, nbors=None):\n",
    "        self.pos = pos\n",
    "        self.neighbors = nbors\n",
    "        \n",
    "    def dist(self,target):\n",
    "        return np.sqrt((self.pos[0] - target.pos[0])**2 + (self.pos[1] - target.pos[1])**2)\n",
    "    \n",
    "class NodeMap:\n",
    "    def __init__(self, size, spc, edgerad, shiprad, hmap = None):\n",
    "        self.dim = (int(size[0]/spc),int(size[1]/spc))\n",
    "        self.size = size\n",
    "        self.spc = self.size[0]/self.dim[0] # Lossless: Sqrt(2)*shiprad\n",
    "        self.edgerad = edgerad\n",
    "        self.shiprad = shiprad\n",
    "        \n",
    "        \n",
    "        if hmap == None:\n",
    "            self.hmap = np.zeros(self.dim, dtype=bool)\n",
    "        else:\n",
    "            self.hmap = hmap\n",
    "            \n",
    "            \n",
    "        self.nmap = np.ndarray(self.dim, dtype=Node)\n",
    "\n",
    "        for i in range(self.dim[0]):\n",
    "            for j in range(self.dim[1]):\n",
    "                p = (i*self.spc, j*self.spc)\n",
    "\n",
    "                self.nmap[i,j] = Node(pos = p,\n",
    "                                     nbors = None\n",
    "                                    )\n",
    "            \n",
    "    def pos_to_idx(self,pos):\n",
    "        return (int(pos[0]/self.spc + 0.5),int(pos[1]/self.spc + 0.5))\n",
    "    def idx_to_pos(self,idx):\n",
    "        return (self.spc*idx[0], self.spc*idx[1])\n",
    "            \n",
    "    def getNode_pos(self, pos):\n",
    "        return self.nmap[self.pos_to_idx(pos)]\n",
    "    \n",
    "    def getNode_idx(self, idx):\n",
    "        return self.nmap[idx]\n",
    "    \n",
    "    def getneighbors(self, node):\n",
    "        snode = self.getNode_pos(node.pos)\n",
    "        \n",
    "        unitrad = int(self.edgerad/self.spc)\n",
    "        \n",
    "        if snode.neighbors == None:\n",
    "            snode.neighbors = [\n",
    "                (m,n) \n",
    "                for m in (self.spc*np.arange(-unitrad,unitrad+1) + snode.pos[0])\n",
    "                for n in (self.spc*np.arange(-unitrad,unitrad+1) + snode.pos[1])\n",
    "                if ((not((m == snode.pos[0]) and (n == snode.pos[1]))) and \n",
    "                    (((m - snode.pos[0])**2 + (n-snode.pos[1])**2)<=self.edgerad**2) and\n",
    "                    (m >= 0) and (n >= 0) and (m <= self.size[0]) and \n",
    "                    (n<=self.size[1])\n",
    "                   )\n",
    "            ]\n",
    "        \n",
    "        return snode.neighbors\n",
    "    \n",
    "    def setObjects(self, objects):\n",
    "        for o in objects:\n",
    "            if 'r' in o.keys():\n",
    "                rad = o['r']\n",
    "            else: \n",
    "                rad = self.shiprad\n",
    "                \n",
    "            unitrad = int((rad + self.shiprad)/self.spc)\n",
    "                \n",
    "            c = (o['x'],o['y'])\n",
    "            cnode = self.getNode_pos(c)\n",
    "            \n",
    "            for m in (self.spc*np.arange(-unitrad,unitrad+1) + cnode.pos[0]):\n",
    "                for n in (self.spc*np.arange(-unitrad,unitrad+1) + cnode.pos[1]):\n",
    "                    if ((((m - c[0])**2 + (n-c[1])**2)<=rad**2) and\n",
    "                        (m>=0) and (n>=0) and (m<=self.size[0]) and (n<=self.size[1])):\n",
    "                        self.hmap[int(m/self.spc + 0.5),int(n/self.spc + 0.5)] = True\n",
    "            \n",
    "    def navigate(self, node1, node2):\n",
    "        \n",
    "    \n",
    "    def copy(self):\n",
    "        return Nodemap(self.size,self.spc,self.edgerad, self.shiprad, hmap = self.hmap.copy())\n",
    "        "
   ]
  },
  {
   "cell_type": "code",
   "execution_count": 3,
   "metadata": {},
   "outputs": [],
   "source": [
    "t = NodeMap((460,500),3.34,7,0.5)"
   ]
  },
  {
   "cell_type": "code",
   "execution_count": 4,
   "metadata": {},
   "outputs": [
    {
     "data": {
      "text/plain": [
       "[(6.7153284671532845, 16.788321167883211),\n",
       " (10.072992700729927, 13.430656934306569),\n",
       " (10.072992700729927, 16.788321167883211),\n",
       " (10.072992700729927, 20.145985401459853),\n",
       " (13.430656934306569, 10.072992700729927),\n",
       " (13.430656934306569, 13.430656934306569),\n",
       " (13.430656934306569, 20.145985401459853),\n",
       " (13.430656934306569, 23.503649635036496),\n",
       " (16.788321167883211, 13.430656934306569),\n",
       " (16.788321167883211, 16.788321167883211),\n",
       " (16.788321167883211, 20.145985401459853),\n",
       " (20.145985401459853, 16.788321167883211)]"
      ]
     },
     "execution_count": 4,
     "metadata": {},
     "output_type": "execute_result"
    }
   ],
   "source": [
    "n = t.getNode_idx((4,5))\n",
    "t.getneighbors(n)"
   ]
  },
  {
   "cell_type": "code",
   "execution_count": 5,
   "metadata": {},
   "outputs": [],
   "source": [
    "import json\n",
    "import zstd"
   ]
  },
  {
   "cell_type": "code",
   "execution_count": 6,
   "metadata": {},
   "outputs": [],
   "source": [
    "filename = 'replays/replay-20171123-154115-0500--1956305953-264-176-1511469666.hlt'\n",
    "\n",
    "with open(filename,'rb') as f:\n",
    "    data = zstd.loads(f.read())\n",
    "    dat = json.loads(data.decode())"
   ]
  },
  {
   "cell_type": "code",
   "execution_count": 7,
   "metadata": {},
   "outputs": [
    {
     "data": {
      "text/plain": [
       "176"
      ]
     },
     "execution_count": 7,
     "metadata": {},
     "output_type": "execute_result"
    }
   ],
   "source": [
    "dat['height']"
   ]
  },
  {
   "cell_type": "code",
   "execution_count": 8,
   "metadata": {},
   "outputs": [
    {
     "data": {
      "text/plain": [
       "{'docking_spots': 2,\n",
       " 'health': 1456,\n",
       " 'id': 5,\n",
       " 'production': 822,\n",
       " 'r': 5.710564993921702,\n",
       " 'x': 149.02130571589066,\n",
       " 'y': 148.36203249504493}"
      ]
     },
     "execution_count": 8,
     "metadata": {},
     "output_type": "execute_result"
    }
   ],
   "source": [
    "dat['planets'][5]"
   ]
  },
  {
   "cell_type": "code",
   "execution_count": 30,
   "metadata": {
    "scrolled": true
   },
   "outputs": [
    {
     "data": {
      "text/plain": [
       "29"
      ]
     },
     "execution_count": 30,
     "metadata": {},
     "output_type": "execute_result"
    }
   ],
   "source": [
    "len(list(dat['frames'][200]['ships']['0'].values()))"
   ]
  },
  {
   "cell_type": "code",
   "execution_count": 43,
   "metadata": {},
   "outputs": [],
   "source": [
    "size = (dat['width'],dat['height'])\n",
    "\n",
    "t = NodeMap(size, 0.5, 7, .5)\n",
    "\n",
    "t.setObjects(dat['planets'])\n",
    "t.setObjects(list(dat['frames'][200]['ships']['0'].values()))"
   ]
  },
  {
   "cell_type": "code",
   "execution_count": 44,
   "metadata": {},
   "outputs": [
    {
     "data": {
      "text/plain": [
       "<matplotlib.image.AxesImage at 0x7f22a7f7e828>"
      ]
     },
     "execution_count": 44,
     "metadata": {},
     "output_type": "execute_result"
    },
    {
     "data": {
      "image/png": "[encoded data removed]",
      "text/plain": [
       "<matplotlib.figure.Figure at 0x7f22a7f44828>"
      ]
     },
     "metadata": {},
     "output_type": "display_data"
    }
   ],
   "source": [
    "import matplotlib.pyplot as plt\n",
    "\n",
    "%matplotlib inline\n",
    "\n",
    "plt.figure(figsize=(10,10))\n",
    "plt.imshow(t.hmap)"
   ]
  },
  {
   "cell_type": "code",
   "execution_count": null,
   "metadata": {},
   "outputs": [],
   "source": []
  },
  {
   "cell_type": "code",
   "execution_count": 51,
   "metadata": {},
   "outputs": [
    {
     "data": {
      "text/plain": [
       "False"
      ]
     },
     "execution_count": 51,
     "metadata": {},
     "output_type": "execute_result"
    }
   ],
   "source": [
    "t[1,1]==m[1,1]"
   ]
  },
  {
   "cell_type": "code",
   "execution_count": 50,
   "metadata": {},
   "outputs": [
    {
     "data": {
      "text/plain": [
       "array([[ True,  True,  True, ..., False, False, False],\n",
       "       [False,  True, False, ..., False, False, False],\n",
       "       [ True,  True,  True, ...,  True, False, False],\n",
       "       ..., \n",
       "       [False, False, False, ..., False, False, False],\n",
       "       [False, False, False, ..., False, False, False],\n",
       "       [False, False, False, ..., False, False, False]], dtype=bool)"
      ]
     },
     "execution_count": 50,
     "metadata": {},
     "output_type": "execute_result"
    }
   ],
   "source": [
    "m"
   ]
  },
  {
   "cell_type": "code",
   "execution_count": 82,
   "metadata": {},
   "outputs": [
    {
     "data": {
      "text/plain": [
       "array([0])"
      ]
     },
     "execution_count": 82,
     "metadata": {},
     "output_type": "execute_result"
    }
   ],
   "source": [
    "np.arange(0,1)"
   ]
  },
  {
   "cell_type": "code",
   "execution_count": null,
   "metadata": {},
   "outputs": [],
   "source": []
  }
 ],
 "metadata": {
  "kernelspec": {
   "display_name": "Python 3",
   "language": "python",
   "name": "python3"
  },
  "language_info": {
   "codemirror_mode": {
    "name": "ipython",
    "version": 3
   },
   "file_extension": ".py",
   "mimetype": "text/x-python",
   "name": "python",
   "nbconvert_exporter": "python",
   "pygments_lexer": "ipython3",
   "version": "3.4.1"
  }
 },
 "nbformat": 4,
 "nbformat_minor": 2
}
