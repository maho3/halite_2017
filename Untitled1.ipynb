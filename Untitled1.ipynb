{
 "cells": [
  {
   "cell_type": "code",
   "execution_count": 1,
   "metadata": {},
   "outputs": [],
   "source": [
    "import numpy as np\n",
    "import hlt\n",
    "\n",
    "import time\n",
    "\n",
    "import matplotlib.pyplot as plt\n",
    "\n",
    "%matplotlib inline"
   ]
  },
  {
   "cell_type": "code",
   "execution_count": 2,
   "metadata": {},
   "outputs": [],
   "source": [
    "class Node:\n",
    "    pos = (0,0)\n",
    "    def __init__(self, pos, idx, nbors=None):\n",
    "        self.pos = pos\n",
    "        self.idx = idx\n",
    "        self.neighbors = nbors\n",
    "        \n",
    "    def dist(self,target):\n",
    "        return np.sqrt((self.pos[0] - target.pos[0])**2 + (self.pos[1] - target.pos[1])**2)\n",
    "    \n",
    "class NodeMap:\n",
    "    def __init__(self, size, spc, edgerad, shiprad, hmap = None):\n",
    "        self.dim = (int(size[0]/spc),int(size[1]/spc))\n",
    "        self.size = size\n",
    "        self.spc = self.size[0]/self.dim[0] # Lossless: Sqrt(2)*shiprad\n",
    "        self.edgerad = edgerad\n",
    "        self.shiprad = shiprad\n",
    "        \n",
    "        \n",
    "        if hmap == None:\n",
    "            self.hmap = np.zeros(self.dim, dtype=bool)\n",
    "        else:\n",
    "            self.hmap = hmap\n",
    "            \n",
    "            \n",
    "        self.nmap = np.ndarray(self.dim, dtype=Node)\n",
    "\n",
    "        for i in range(self.dim[0]):\n",
    "            for j in range(self.dim[1]):\n",
    "                p = (i*self.spc, j*self.spc)\n",
    "\n",
    "                self.nmap[i,j] = Node(pos = p,\n",
    "                                      idx = (i, j),\n",
    "                                     nbors = None\n",
    "                                    )\n",
    "            \n",
    "    def pos_to_idx(self,pos):\n",
    "        return (int(pos[0]/self.spc + 0.5),int(pos[1]/self.spc + 0.5))\n",
    "    def idx_to_pos(self,idx):\n",
    "        return (self.spc*idx[0], self.spc*idx[1])\n",
    "            \n",
    "    def getNode_pos(self, pos):\n",
    "        return self.nmap[self.pos_to_idx(pos)]\n",
    "    \n",
    "    def getNode_idx(self, idx):\n",
    "        return self.nmap[idx]\n",
    "    \n",
    "    def getneighbors(self, node):\n",
    "        snode = self.getNode_pos(node.pos)\n",
    "        \n",
    "        unitrad = int(self.edgerad/self.spc)\n",
    "        \n",
    "        if snode.neighbors == None:\n",
    "            snode.neighbors = [\n",
    "                (m,n) \n",
    "                for m in (self.spc*np.arange(-unitrad,unitrad+1) + snode.pos[0])\n",
    "                for n in (self.spc*np.arange(-unitrad,unitrad+1) + snode.pos[1])\n",
    "                if ((not((m == snode.pos[0]) and (n == snode.pos[1]))) and \n",
    "                    (((m - snode.pos[0])**2 + (n-snode.pos[1])**2)<=self.edgerad**2) and\n",
    "                    (m >= 0) and (n >= 0) and (m <= self.size[0]) and \n",
    "                    (n<=self.size[1])\n",
    "                   )\n",
    "            ]\n",
    "        \n",
    "        return snode.neighbors\n",
    "    \n",
    "    def setObjects(self, objects):\n",
    "        for o in objects:\n",
    "            if 'r' in o.keys():\n",
    "                rad = o['r']\n",
    "            else: \n",
    "                rad = self.shiprad\n",
    "                \n",
    "            unitrad = int((rad + self.shiprad)/self.spc)\n",
    "                \n",
    "            c = (o['x'],o['y'])\n",
    "            cnode = self.getNode_pos(c)\n",
    "            \n",
    "            for m in (self.spc*np.arange(-unitrad,unitrad+1) + cnode.pos[0]):\n",
    "                for n in (self.spc*np.arange(-unitrad,unitrad+1) + cnode.pos[1]):\n",
    "                    if ((((m - c[0])**2 + (n-c[1])**2)<=rad**2) and\n",
    "                        (m>=0) and (n>=0) and (m<=self.size[0]) and (n<=self.size[1])):\n",
    "                        self.hmap[int(m/self.spc + 0.5),int(n/self.spc + 0.5)] = True\n",
    "            \n",
    "    def checkline(self, pos1, pos2):\n",
    "        angle = np.arctan2((pos2[1]-pos1[1]),(pos2[0]-pos1[0]))\n",
    "        length_i = np.sqrt((pos2[1]-pos1[1])**2 + (pos2[0]-pos1[0])**2)/(np.sqrt(2)*self.spc)\n",
    "        \n",
    "        xdl = np.sqrt(2) * self.spc * np.cos(angle)\n",
    "        ydl = np.sqrt(2) * self.spc * np.sin(angle)\n",
    "        \n",
    "        i = 1\n",
    "        \n",
    "        while i < length_i:\n",
    "            if self.hmap[self.pos_to_idx((pos1[0] + i*xdl, pos1[1] + i*ydl))]:\n",
    "                return False\n",
    "            \n",
    "            i+=1\n",
    "            \n",
    "        return True\n",
    "        \n",
    "    \n",
    "    def copy(self):\n",
    "        return Nodemap(self.size,self.spc,self.edgerad, self.shiprad, hmap = self.hmap.copy())\n",
    "        "
   ]
  },
  {
   "cell_type": "code",
   "execution_count": 3,
   "metadata": {},
   "outputs": [],
   "source": [
    "t = NodeMap((460,500),3.34,7,0.5)"
   ]
  },
  {
   "cell_type": "code",
   "execution_count": 4,
   "metadata": {
    "scrolled": true
   },
   "outputs": [
    {
     "data": {
      "text/plain": [
       "[(6.7153284671532845, 16.788321167883211),\n",
       " (10.072992700729927, 13.430656934306569),\n",
       " (10.072992700729927, 16.788321167883211),\n",
       " (10.072992700729927, 20.145985401459853),\n",
       " (13.430656934306569, 10.072992700729927),\n",
       " (13.430656934306569, 13.430656934306569),\n",
       " (13.430656934306569, 20.145985401459853),\n",
       " (13.430656934306569, 23.503649635036496),\n",
       " (16.788321167883211, 13.430656934306569),\n",
       " (16.788321167883211, 16.788321167883211),\n",
       " (16.788321167883211, 20.145985401459853),\n",
       " (20.145985401459853, 16.788321167883211)]"
      ]
     },
     "execution_count": 4,
     "metadata": {},
     "output_type": "execute_result"
    }
   ],
   "source": [
    "n = t.getNode_idx((4,5))\n",
    "t.getneighbors(n)"
   ]
  },
  {
   "cell_type": "code",
   "execution_count": 5,
   "metadata": {},
   "outputs": [],
   "source": [
    "import json\n",
    "import zstd"
   ]
  },
  {
   "cell_type": "code",
   "execution_count": 6,
   "metadata": {},
   "outputs": [],
   "source": [
    "filename = 'replays/replay-20171123-154115-0500--1956305953-264-176-1511469666.hlt'\n",
    "\n",
    "with open(filename,'rb') as f:\n",
    "    data = zstd.loads(f.read())\n",
    "    dat = json.loads(data.decode())"
   ]
  },
  {
   "cell_type": "code",
   "execution_count": 7,
   "metadata": {},
   "outputs": [
    {
     "data": {
      "text/plain": [
       "176"
      ]
     },
     "execution_count": 7,
     "metadata": {},
     "output_type": "execute_result"
    }
   ],
   "source": [
    "dat['height']"
   ]
  },
  {
   "cell_type": "code",
   "execution_count": 8,
   "metadata": {},
   "outputs": [
    {
     "data": {
      "text/plain": [
       "{'docking_spots': 2,\n",
       " 'health': 1456,\n",
       " 'id': 5,\n",
       " 'production': 822,\n",
       " 'r': 5.710564993921702,\n",
       " 'x': 149.02130571589066,\n",
       " 'y': 148.36203249504493}"
      ]
     },
     "execution_count": 8,
     "metadata": {},
     "output_type": "execute_result"
    }
   ],
   "source": [
    "dat['planets'][5]"
   ]
  },
  {
   "cell_type": "code",
   "execution_count": 9,
   "metadata": {
    "scrolled": true
   },
   "outputs": [
    {
     "data": {
      "text/plain": [
       "26"
      ]
     },
     "execution_count": 9,
     "metadata": {},
     "output_type": "execute_result"
    }
   ],
   "source": [
    "len(list(dat['frames'][206]['ships']['0'].values()))"
   ]
  },
  {
   "cell_type": "code",
   "execution_count": 10,
   "metadata": {},
   "outputs": [],
   "source": [
    "size = (dat['width'],dat['height'])\n",
    "\n",
    "# def __init__(self, size, spc, edgerad, shiprad, hmap = None):\n",
    "t = NodeMap(size, 1.0, 7, .5)\n",
    "\n",
    "t.setObjects(dat['planets'])\n",
    "t.setObjects(list(dat['frames'][200]['ships']['0'].values()))"
   ]
  },
  {
   "cell_type": "code",
   "execution_count": 11,
   "metadata": {},
   "outputs": [
    {
     "data": {
      "text/plain": [
       "<matplotlib.image.AxesImage at 0x7fa5f48d7ba8>"
      ]
     },
     "execution_count": 11,
     "metadata": {},
     "output_type": "execute_result"
    },
    {
     "data": {
      "image/png": "[encoded data removed]",
      "text/plain": [
       "<matplotlib.figure.Figure at 0x7fa5f3882d68>"
      ]
     },
     "metadata": {},
     "output_type": "display_data"
    }
   ],
   "source": [
    "\n",
    "\n",
    "plt.figure(figsize=(10,10))\n",
    "plt.imshow(t.hmap.transpose())"
   ]
  },
  {
   "cell_type": "code",
   "execution_count": 12,
   "metadata": {
    "scrolled": true
   },
   "outputs": [
    {
     "data": {
      "text/plain": [
       "True"
      ]
     },
     "execution_count": 12,
     "metadata": {},
     "output_type": "execute_result"
    }
   ],
   "source": [
    "t.checkline((150,60),(200,100))"
   ]
  },
  {
   "cell_type": "code",
   "execution_count": 13,
   "metadata": {},
   "outputs": [
    {
     "name": "stdout",
     "output_type": "stream",
     "text": [
      "2.46685171137\n",
      "0.624695047554\n"
     ]
    }
   ],
   "source": [
    "a = np.arctan2((100-60),(100-150))\n",
    "print(a)\n",
    "print(np.sin(a))"
   ]
  },
  {
   "cell_type": "code",
   "execution_count": 14,
   "metadata": {},
   "outputs": [
    {
     "data": {
      "text/plain": [
       "141.34019174590992"
      ]
     },
     "execution_count": 14,
     "metadata": {},
     "output_type": "execute_result"
    }
   ],
   "source": [
    "a/np.pi*180"
   ]
  },
  {
   "cell_type": "code",
   "execution_count": 70,
   "metadata": {},
   "outputs": [],
   "source": [
    "class Mock:\n",
    "    def __init__(self, x, y):\n",
    "        self.x = x\n",
    "        self.y = y\n",
    "\n",
    "class NodeMap:\n",
    "    def __init__(self, size, spc, shiprad, hmap = None):\n",
    "        self.dim = (int(size[0]/spc),int(size[1]/spc))\n",
    "        self.size = size\n",
    "        self.spc = self.size[0]/self.dim[0] # Lossless: Sqrt(2)*shiprad\n",
    "        self.shiprad = shiprad\n",
    "        \n",
    "        \n",
    "        if hmap is None:\n",
    "            self.hmap = np.zeros(self.dim, dtype=bool)\n",
    "        else:\n",
    "            self.hmap = hmap\n",
    "            \n",
    "    def pos_to_idx(self,pos):\n",
    "        return (int(pos[0]/self.spc + 0.5),int(pos[1]/self.spc + 0.5))\n",
    "    def idx_to_pos(self,idx):\n",
    "        return (self.spc*idx[0], self.spc*idx[1])\n",
    "    \n",
    "    def setObjects(self, objects):\n",
    "        for o in objects:\n",
    "            if 'r' in o.keys():\n",
    "                rad = o['r']\n",
    "            else: \n",
    "                rad = self.shiprad\n",
    "                \n",
    "            unitrad = int((rad + self.shiprad)/self.spc+1)\n",
    "                \n",
    "            c = (o['x'],o['y'])\n",
    "            cnode = self.idx_to_pos(self.pos_to_idx(c))\n",
    "            \n",
    "            for m in (self.spc*np.arange(-unitrad,unitrad+1) + cnode[0]):\n",
    "                for n in (self.spc*np.arange(-unitrad,unitrad+1) + cnode[1]):\n",
    "                    if ((((m - c[0])**2 + (n-c[1])**2)<=(rad+self.shiprad)**2) and\n",
    "                        (m>=0) and (n>=0) and (m<=self.size[0]) and (n<=self.size[1])):\n",
    "                        self.hmap[int(m/self.spc + 0.5),int(n/self.spc + 0.5)] = True\n",
    "            \n",
    "    def checkline(self, pos1, pos2): # checks line in hmap between two points to be empty\n",
    "        angle = np.arctan2((pos2[1]-pos1[1]),(pos2[0]-pos1[0]))\n",
    "        length_i = np.sqrt((pos2[1]-pos1[1])**2 + (pos2[0]-pos1[0])**2)/(np.sqrt(2)*self.spc)\n",
    "        \n",
    "        xdl = np.sqrt(2) * self.spc * np.cos(angle)\n",
    "        ydl = np.sqrt(2) * self.spc * np.sin(angle)\n",
    "        \n",
    "        i = 1\n",
    "        \n",
    "        while i < length_i:\n",
    "            if self.hmap[self.pos_to_idx((pos1[0] + i*xdl, pos1[1] + i*ydl))]:\n",
    "                return False\n",
    "            else:\n",
    "                pass # self.hmap[self.pos_to_idx((pos1[0] + i*xdl, pos1[1] + i*ydl))] = True\n",
    "            \n",
    "            i+=1\n",
    "            \n",
    "        return True\n",
    "    \n",
    "    def markline(self, pos1, angle, d):\n",
    "        d_i = d/(np.sqrt(2)*self.spc)\n",
    "        \n",
    "        xdl = np.sqrt(2) * self.spc * np.cos(angle)\n",
    "        ydl = np.sqrt(2) * self.spc * np.sin(angle)\n",
    "        \n",
    "        i = 0\n",
    "        \n",
    "        markers = []\n",
    "        while i < d_i+1:\n",
    "            markers.append({'x':pos1[0] + i*xdl,'y': pos1[1] + i*ydl})\n",
    "            \n",
    "            i+=1\n",
    "            \n",
    "        self.setObjects(markers)\n",
    "    \n",
    "    def copy(self):\n",
    "        return NodeMap(self.size,self.spc, self.shiprad, hmap = self.hmap.copy())\n",
    "        "
   ]
  },
  {
   "cell_type": "code",
   "execution_count": 71,
   "metadata": {},
   "outputs": [],
   "source": [
    "class Nav:\n",
    "    def __init__(self, moverad, lookahead, anginc):\n",
    "        self.moverad = moverad\n",
    "        self.lookahead = lookahead\n",
    "        self.anginc = anginc\n",
    "        \n",
    "    def orient(self, cmap, start, angle, d): # finds closest empty angle and distance to target\n",
    "        if cmap.checkline(start,\n",
    "                          (start[0] + d*np.cos(angle),\n",
    "                           start[1] + d*np.sin(angle)\n",
    "                          )\n",
    "                         ):\n",
    "            return angle, d\n",
    "        \n",
    "        \n",
    "        offangle = self.anginc\n",
    "        checkrad = d*np.cos(offangle)\n",
    "        \n",
    "        side = 1\n",
    "        \n",
    "        while offangle < np.pi/2:\n",
    "            if cmap.checkline(start, \n",
    "                              (start[0] + checkrad*np.cos(angle + side*offangle),\n",
    "                               start[1] + checkrad*np.sin(angle + side*offangle)\n",
    "                              ) \n",
    "                             ):\n",
    "                return angle+side*offangle , checkrad\n",
    "            \n",
    "            if side==1:\n",
    "                side = -1\n",
    "            else:\n",
    "                side = 1\n",
    "                offangle += self.anginc\n",
    "                checkrad = d*np.cos(offangle)\n",
    "        \n",
    "        return 0, checkrad #None\n",
    "    \n",
    "    def dist(self,node1, node2):\n",
    "        return np.sqrt((node1[0]-node2[0])**2 + (node1[1]-node2[1])**2)\n",
    "    \n",
    "    def get_nav_ang(self, start, end, end_r, pmap, smap): # returns angle and distance from start and end parameters\n",
    "        dist = self.dist(start, end)\n",
    "        ang_orig =  np.arctan2((end[1]-start[1]),(end[0]-start[0]))\n",
    "        \n",
    "        probe_d =  dist - end_r - pmap.shiprad\n",
    "        if self.lookahead < probe_d:\n",
    "            probe_d = self.lookahead\n",
    "            \n",
    "        ang_new, probe_d = self.orient(pmap, start, ang_orig, probe_d)\n",
    "        \n",
    "        if self.moverad < probe_d:\n",
    "            probe_d = self.moverad\n",
    "        \n",
    "        ang_new, probe_d = self.orient(smap, start, ang_new, probe_d)\n",
    "        \n",
    "        return ang_new, probe_d\n",
    "    "
   ]
  },
  {
   "cell_type": "code",
   "execution_count": 84,
   "metadata": {
    "scrolled": false
   },
   "outputs": [
    {
     "name": "stdout",
     "output_type": "stream",
     "text": [
      "(264, 176)\n"
     ]
    },
    {
     "data": {
      "text/plain": [
       "<matplotlib.image.AxesImage at 0x7fa5f053f320>"
      ]
     },
     "execution_count": 84,
     "metadata": {},
     "output_type": "execute_result"
    },
    {
     "data": {
      "image/png": "[encoded data removed]",
      "text/plain": [
       "<matplotlib.figure.Figure at 0x7fa5f0ba6a20>"
      ]
     },
     "metadata": {},
     "output_type": "display_data"
    },
    {
     "data": {
      "image/png": "[encoded data removed]",
      "text/plain": [
       "<matplotlib.figure.Figure at 0x7fa5f05a2e48>"
      ]
     },
     "metadata": {},
     "output_type": "display_data"
    }
   ],
   "source": [
    "filename = 'replays/replay-20171123-154115-0500--1956305953-264-176-1511469666.hlt'\n",
    "\n",
    "with open(filename,'rb') as f:\n",
    "    data = zstd.loads(f.read())\n",
    "    dat = json.loads(data.decode())\n",
    "    \n",
    "size = (dat['width'],dat['height'])\n",
    "print(size)\n",
    "\n",
    "# def __init__(self, size, spc, edgerad, shiprad, hmap = None):\n",
    "pmap = NodeMap(size = size, spc = 0.5, shiprad = 0.5)\n",
    "\n",
    "pmap.setObjects(dat['planets'])\n",
    "\n",
    "smap = pmap.copy()\n",
    "\n",
    "smap.setObjects(list(dat['frames'][230]['ships']['0'].values()))\n",
    "\n",
    "fig, ax = plt.subplots(figsize=(15,15))\n",
    "ax.imshow(pmap.hmap.transpose())\n",
    "\n",
    "for p in dat['planets']:\n",
    "    ax.add_artist(plt.Circle((p['x'],p['y']),p['r']))\n",
    "\n",
    "\n",
    "plt.figure(figsize=(10,10))\n",
    "plt.imshow(smap.hmap.transpose())\n"
   ]
  },
  {
   "cell_type": "code",
   "execution_count": 85,
   "metadata": {},
   "outputs": [
    {
     "name": "stdout",
     "output_type": "stream",
     "text": [
      "0.048834800720214844\n",
      "0.0654458999633789\n",
      "0.09958934783935547\n",
      "0.060550689697265625\n",
      "0.1018524169921875\n",
      "0.06371212005615234\n"
     ]
    },
    {
     "data": {
      "image/png": "[encoded data removed]",
      "text/plain": [
       "<matplotlib.figure.Figure at 0x7fa5f44bf588>"
      ]
     },
     "metadata": {},
     "output_type": "display_data"
    }
   ],
   "source": [
    "nav = Nav(moverad = 7.0, lookahead = 50.0, anginc = np.pi*5/180.)\n",
    "\n",
    "begin = (150,105)\n",
    "\n",
    "plt.figure(figsize=(20,20))\n",
    "plt.imshow(smap.hmap.transpose())\n",
    "\n",
    "for j in range(int(len(dat['planets'])/2)):\n",
    "    p = dat['planets'][j]\n",
    "    end =  (p['x'],p['y'])\n",
    "    end_r = p['r']\n",
    "\n",
    "    i = begin\n",
    "    path = [i]\n",
    "\n",
    "    start = time.time()\n",
    "    for n in range(50):\n",
    "        a, d = nav.get_nav_ang(i, end, end_r, pmap, smap)\n",
    "\n",
    "        i = (i[0] + d*np.cos(a), i[1] + d*np.sin(a))\n",
    "\n",
    "        path.append(i)\n",
    "\n",
    "    end = time.time()\n",
    "    print(300/25*(end - start))\n",
    "\n",
    "    path = [pmap.pos_to_idx(i) for i in path]\n",
    "    path = list(zip(*path))\n",
    "\n",
    "    plt.scatter(path[0],path[1])\n"
   ]
  },
  {
   "cell_type": "code",
   "execution_count": 87,
   "metadata": {},
   "outputs": [
    {
     "name": "stdout",
     "output_type": "stream",
     "text": [
      "0.26131725311279297\n"
     ]
    },
    {
     "data": {
      "text/plain": [
       "<matplotlib.collections.PathCollection at 0x7fa5f0abfb38>"
      ]
     },
     "execution_count": 87,
     "metadata": {},
     "output_type": "execute_result"
    },
    {
     "data": {
      "image/png": "[encoded data removed]",
      "text/plain": [
       "<matplotlib.figure.Figure at 0x7fa5f40a7908>"
      ]
     },
     "metadata": {},
     "output_type": "display_data"
    }
   ],
   "source": [
    "nav = Nav(moverad = 7.0, lookahead = 50.0, anginc = np.pi*5/180.)\n",
    "\n",
    "begin = (165,155)\n",
    "\n",
    "\n",
    "\n",
    "p = list(dat['frames'][230]['ships']['0'].values())[2]\n",
    "end =  (p['x'],p['y'])\n",
    "end_r = pmap.shiprad\n",
    "\n",
    "i = begin\n",
    "path = [i]\n",
    "\n",
    "start = time.time()\n",
    "for n in range(1):\n",
    "    a, d = nav.get_nav_ang(i, end, end_r, pmap, smap)\n",
    "    \n",
    "    smap.markline(i, a,d)\n",
    "\n",
    "    i = (i[0] + d*np.cos(a), i[1] + d*np.sin(a))\n",
    "\n",
    "    path.append(i)\n",
    "i = (begin[0]+1, begin[1])\n",
    "for n in range(1):\n",
    "    a, d = nav.get_nav_ang(i, end, end_r, pmap, smap)\n",
    "    \n",
    "    smap.markline(i, a,d)\n",
    "\n",
    "    i = (i[0] + d*np.cos(a), i[1] + d*np.sin(a))\n",
    "\n",
    "    path.append(i)\n",
    "    \n",
    "end = time.time()\n",
    "print(300/25*(end - start))\n",
    "\n",
    "path = [pmap.pos_to_idx(i) for i in path]\n",
    "path = list(zip(*path))\n",
    "\n",
    "plt.figure(figsize=(50,50))\n",
    "plt.imshow(smap.hmap.transpose())\n",
    "plt.scatter(path[0],path[1])"
   ]
  },
  {
   "cell_type": "code",
   "execution_count": 20,
   "metadata": {},
   "outputs": [
    {
     "data": {
      "text/plain": [
       "hlt.entity.Planet"
      ]
     },
     "execution_count": 20,
     "metadata": {},
     "output_type": "execute_result"
    }
   ],
   "source": [
    "hlt.entity.Planet"
   ]
  },
  {
   "cell_type": "code",
   "execution_count": null,
   "metadata": {},
   "outputs": [],
   "source": []
  }
 ],
 "metadata": {
  "kernelspec": {
   "display_name": "Python 3",
   "language": "python",
   "name": "python3"
  },
  "language_info": {
   "codemirror_mode": {
    "name": "ipython",
    "version": 3
   },
   "file_extension": ".py",
   "mimetype": "text/x-python",
   "name": "python",
   "nbconvert_exporter": "python",
   "pygments_lexer": "ipython3",
   "version": "3.4.1"
  }
 },
 "nbformat": 4,
 "nbformat_minor": 2
}
