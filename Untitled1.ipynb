{
 "cells": [
  {
   "cell_type": "code",
   "execution_count": 70,
   "metadata": {},
   "outputs": [],
   "source": [
    "import numpy as np\n",
    "import hlt"
   ]
  },
  {
   "cell_type": "code",
   "execution_count": 71,
   "metadata": {},
   "outputs": [],
   "source": [
    "class Node:\n",
    "    pos = (0,0)\n",
    "    def __init__(self, pos, nbors=None):\n",
    "        self.pos = pos\n",
    "        self.neighbors = nbors\n",
    "        \n",
    "    def dist(self,target):\n",
    "        return np.sqrt((self.pos[0] - target.pos[0])**2 + (self.pos[1] - target.pos[1])**2)\n",
    "    \n",
    "class NodeMap:\n",
    "    def __init__(self, size, spc, edgerad, shiprad, hmap = None):\n",
    "        self.dim = (int(size[0]/spc),int(size[1]/spc))\n",
    "        self.size = size\n",
    "        self.spc = self.size[0]/self.dim[0]\n",
    "        self.edgerad = edgerad\n",
    "        self.shiprad = shiprad\n",
    "        \n",
    "        \n",
    "        if hmap == None:\n",
    "            self.hmap = np.zeros(self.dim, dtype=bool)\n",
    "        else:\n",
    "            self.hmap = hmap\n",
    "            \n",
    "            \n",
    "        self.nmap = np.ndarray(self.dim, dtype=Node)\n",
    "\n",
    "        for i in range(self.dim[0]):\n",
    "            for j in range(self.dim[1]):\n",
    "                p = (i*self.spc, j*self.spc)\n",
    "\n",
    "                self.nmap[i,j] = Node(pos = p,\n",
    "                                     nbors = None\n",
    "                                    )\n",
    "            \n",
    "            \n",
    "    def getNode_pos(self, pos):\n",
    "        return self.nmap[int(pos[0]/self.spc),int(pos[1]/self.spc)]\n",
    "    def getNode_idx(self, idx):\n",
    "        return self.nmap[idx]\n",
    "    \n",
    "    def getneighbors(self, node):\n",
    "        snode = self.getNode_pos(node.pos)\n",
    "        \n",
    "        unitrad = int(self.edgerad/self.spc)\n",
    "        \n",
    "        if snode.neighbors == None:\n",
    "            snode.neighbors = [\n",
    "                (m,n) \n",
    "                for m in (self.spc*np.arange(-unitrad,unitrad+1) + snode.pos[0])\n",
    "                for n in (self.spc*np.arange(-unitrad,unitrad+1) + snode.pos[1])\n",
    "                if ((not((m == snode.pos[0]) and (n == snode.pos[1]))) and \n",
    "                    (((m - snode.pos[0])**2 + (n-snode.pos[1])**2)<=self.edgerad**2) and\n",
    "                    (m >= 0) and (n >= 0) and (m <= self.size[0]) and \n",
    "                    (n<=self.size[1])\n",
    "                   )\n",
    "            ]\n",
    "        \n",
    "        return snode.neighbors\n",
    "    \n",
    "    def setObjects(self, objects):\n",
    "        for o in objects:\n",
    "            if 'r' in o.keys():\n",
    "                unitrad = int((o['r'] + self.shiprad)/self.spc)\n",
    "            else: \n",
    "                unitrad = int(self.shiprad/self.spc)\n",
    "                \n",
    "            center = \n",
    "            for m in (self.spc*np.arange(-unitrad,unitrad+1) + snode.pos[0]):\n",
    "                \n",
    "            \n",
    "    \n",
    "    def copy(self):\n",
    "        Nodemap(self.size,self.spc,self.edgerad, self.shiprad, hmap = self.hmap.copy())\n",
    "        "
   ]
  },
  {
   "cell_type": "code",
   "execution_count": 75,
   "metadata": {},
   "outputs": [],
   "source": [
    "t = NodeMap((460,500),3.34,7,0.5)"
   ]
  },
  {
   "cell_type": "code",
   "execution_count": 76,
   "metadata": {},
   "outputs": [
    {
     "data": {
      "text/plain": [
       "[(6.7153284671532845, 16.788321167883211),\n",
       " (10.072992700729927, 13.430656934306569),\n",
       " (10.072992700729927, 16.788321167883211),\n",
       " (10.072992700729927, 20.145985401459853),\n",
       " (13.430656934306569, 10.072992700729927),\n",
       " (13.430656934306569, 13.430656934306569),\n",
       " (13.430656934306569, 20.145985401459853),\n",
       " (13.430656934306569, 23.503649635036496),\n",
       " (16.788321167883211, 13.430656934306569),\n",
       " (16.788321167883211, 16.788321167883211),\n",
       " (16.788321167883211, 20.145985401459853),\n",
       " (20.145985401459853, 16.788321167883211)]"
      ]
     },
     "execution_count": 76,
     "metadata": {},
     "output_type": "execute_result"
    }
   ],
   "source": [
    "n = t.getNode_idx((4,5))\n",
    "t.getneighbors(n)"
   ]
  },
  {
   "cell_type": "code",
   "execution_count": 6,
   "metadata": {},
   "outputs": [],
   "source": [
    "import json\n",
    "import zstd"
   ]
  },
  {
   "cell_type": "code",
   "execution_count": 16,
   "metadata": {},
   "outputs": [],
   "source": [
    "filename = 'replays/replay-20171123-154115-0500--1956305953-264-176-1511469666.hlt'\n",
    "\n",
    "with open(filename,'rb') as f:\n",
    "    data = zstd.loads(f.read())\n",
    "    dat = json.loads(data.decode())"
   ]
  },
  {
   "cell_type": "code",
   "execution_count": 35,
   "metadata": {},
   "outputs": [
    {
     "data": {
      "text/plain": [
       "{'docking_spots': 2,\n",
       " 'health': 1456,\n",
       " 'id': 5,\n",
       " 'production': 822,\n",
       " 'r': 5.710564993921702,\n",
       " 'x': 149.02130571589066,\n",
       " 'y': 148.36203249504493}"
      ]
     },
     "execution_count": 35,
     "metadata": {},
     "output_type": "execute_result"
    }
   ],
   "source": [
    "dat['planets'][5]"
   ]
  },
  {
   "cell_type": "code",
   "execution_count": 80,
   "metadata": {
    "scrolled": true
   },
   "outputs": [
    {
     "data": {
      "text/plain": [
       "{'0': {'0': {'cooldown': 0,\n",
       "   'docking': {'planet_id': 3, 'status': 'docked'},\n",
       "   'health': 255,\n",
       "   'id': 0,\n",
       "   'owner': 0,\n",
       "   'vel_x': 0.0,\n",
       "   'vel_y': 0.0,\n",
       "   'x': 133.1456582528465,\n",
       "   'y': 83.35929633793631},\n",
       "  '1': {'cooldown': 0,\n",
       "   'docking': {'planet_id': 2, 'status': 'docked'},\n",
       "   'health': 255,\n",
       "   'id': 1,\n",
       "   'owner': 0,\n",
       "   'vel_x': 0.0,\n",
       "   'vel_y': 0.0,\n",
       "   'x': 117.69513678381185,\n",
       "   'y': 74.68908060352217},\n",
       "  '17': {'cooldown': 0,\n",
       "   'docking': {'planet_id': 5, 'status': 'docked'},\n",
       "   'health': 255,\n",
       "   'id': 17,\n",
       "   'owner': 0,\n",
       "   'vel_x': 0.0,\n",
       "   'vel_y': 0.0,\n",
       "   'x': 147.16836392272361,\n",
       "   'y': 139.32619795128997},\n",
       "  '19': {'cooldown': 0,\n",
       "   'docking': {'status': 'undocked'},\n",
       "   'health': 255,\n",
       "   'id': 19,\n",
       "   'owner': 0,\n",
       "   'vel_x': 0.0,\n",
       "   'vel_y': 0.0,\n",
       "   'x': 117.94715819512889,\n",
       "   'y': 129.23520502045454},\n",
       "  '2': {'cooldown': 0,\n",
       "   'docking': {'planet_id': 1, 'status': 'docked'},\n",
       "   'health': 255,\n",
       "   'id': 2,\n",
       "   'owner': 0,\n",
       "   'vel_x': 0.0,\n",
       "   'vel_y': 0.0,\n",
       "   'x': 128.4729961003606,\n",
       "   'y': 88.97970362468567},\n",
       "  '23': {'cooldown': 0,\n",
       "   'docking': {'planet_id': 0, 'status': 'docked'},\n",
       "   'health': 255,\n",
       "   'id': 23,\n",
       "   'owner': 0,\n",
       "   'vel_x': 0.0,\n",
       "   'vel_y': 0.0,\n",
       "   'x': 134.62693026569917,\n",
       "   'y': 104.3653564660294},\n",
       "  '25': {'cooldown': 0,\n",
       "   'docking': {'status': 'undocked'},\n",
       "   'health': 255,\n",
       "   'id': 25,\n",
       "   'owner': 0,\n",
       "   'vel_x': 0.0,\n",
       "   'vel_y': 0.0,\n",
       "   'x': 109.60764240677149,\n",
       "   'y': 91.0314472587406},\n",
       "  '27': {'cooldown': 0,\n",
       "   'docking': {'status': 'undocked'},\n",
       "   'health': 255,\n",
       "   'id': 27,\n",
       "   'owner': 0,\n",
       "   'vel_x': 0.0,\n",
       "   'vel_y': 0.0,\n",
       "   'x': 105.10808108506387,\n",
       "   'y': 91.4491832013075},\n",
       "  '28': {'cooldown': 0,\n",
       "   'docking': {'status': 'undocked'},\n",
       "   'health': 255,\n",
       "   'id': 28,\n",
       "   'owner': 0,\n",
       "   'vel_x': 0.0,\n",
       "   'vel_y': 0.0,\n",
       "   'x': 108.18931753974921,\n",
       "   'y': 87.26937507110368},\n",
       "  '29': {'cooldown': 0,\n",
       "   'docking': {'status': 'undocked'},\n",
       "   'health': 255,\n",
       "   'id': 29,\n",
       "   'owner': 0,\n",
       "   'vel_x': 0.0,\n",
       "   'vel_y': 0.0,\n",
       "   'x': 125.9750255992026,\n",
       "   'y': 86.01503351189184},\n",
       "  '7': {'cooldown': 0,\n",
       "   'docking': {'status': 'undocked'},\n",
       "   'health': 255,\n",
       "   'id': 7,\n",
       "   'owner': 0,\n",
       "   'vel_x': 0.0,\n",
       "   'vel_y': 0.0,\n",
       "   'x': 133.8559828397369,\n",
       "   'y': 122.06988620224246},\n",
       "  '8': {'cooldown': 0,\n",
       "   'docking': {'status': 'undocked'},\n",
       "   'health': 255,\n",
       "   'id': 8,\n",
       "   'owner': 0,\n",
       "   'vel_x': 0.0,\n",
       "   'vel_y': 0.0,\n",
       "   'x': 132.68447216852766,\n",
       "   'y': 122.49345069493646}},\n",
       " '1': {'22': {'cooldown': 0,\n",
       "   'docking': {'status': 'undocked'},\n",
       "   'health': 255,\n",
       "   'id': 22,\n",
       "   'owner': 1,\n",
       "   'vel_x': 0.0,\n",
       "   'vel_y': 0.0,\n",
       "   'x': 184.41846341569104,\n",
       "   'y': 93.44035207708274},\n",
       "  '26': {'cooldown': 0,\n",
       "   'docking': {'status': 'undocked'},\n",
       "   'health': 255,\n",
       "   'id': 26,\n",
       "   'owner': 1,\n",
       "   'vel_x': 0.0,\n",
       "   'vel_y': 0.0,\n",
       "   'x': 214.72078850780565,\n",
       "   'y': 84.58585597686144},\n",
       "  '6': {'cooldown': 0,\n",
       "   'docking': {'planet_id': 4, 'status': 'docked'},\n",
       "   'health': 255,\n",
       "   'id': 6,\n",
       "   'owner': 1,\n",
       "   'vel_x': 0.0,\n",
       "   'vel_y': 0.0,\n",
       "   'x': 239.365576895697,\n",
       "   'y': 80.10658849909339}}}"
      ]
     },
     "execution_count": 80,
     "metadata": {},
     "output_type": "execute_result"
    }
   ],
   "source": [
    "dat['frames'][100]['ships']"
   ]
  },
  {
   "cell_type": "code",
   "execution_count": 46,
   "metadata": {},
   "outputs": [],
   "source": [
    "t = np.ndarray((300,300),dtype=bool)"
   ]
  },
  {
   "cell_type": "code",
   "execution_count": 47,
   "metadata": {},
   "outputs": [],
   "source": [
    "m = t.copy()"
   ]
  },
  {
   "cell_type": "code",
   "execution_count": 48,
   "metadata": {},
   "outputs": [],
   "source": [
    "m[1,1] = True"
   ]
  },
  {
   "cell_type": "code",
   "execution_count": 51,
   "metadata": {},
   "outputs": [
    {
     "data": {
      "text/plain": [
       "False"
      ]
     },
     "execution_count": 51,
     "metadata": {},
     "output_type": "execute_result"
    }
   ],
   "source": [
    "t[1,1]==m[1,1]"
   ]
  },
  {
   "cell_type": "code",
   "execution_count": 50,
   "metadata": {},
   "outputs": [
    {
     "data": {
      "text/plain": [
       "array([[ True,  True,  True, ..., False, False, False],\n",
       "       [False,  True, False, ..., False, False, False],\n",
       "       [ True,  True,  True, ...,  True, False, False],\n",
       "       ..., \n",
       "       [False, False, False, ..., False, False, False],\n",
       "       [False, False, False, ..., False, False, False],\n",
       "       [False, False, False, ..., False, False, False]], dtype=bool)"
      ]
     },
     "execution_count": 50,
     "metadata": {},
     "output_type": "execute_result"
    }
   ],
   "source": [
    "m"
   ]
  },
  {
   "cell_type": "code",
   "execution_count": 82,
   "metadata": {},
   "outputs": [
    {
     "data": {
      "text/plain": [
       "array([0])"
      ]
     },
     "execution_count": 82,
     "metadata": {},
     "output_type": "execute_result"
    }
   ],
   "source": [
    "np.arange(0,1)"
   ]
  },
  {
   "cell_type": "code",
   "execution_count": null,
   "metadata": {},
   "outputs": [],
   "source": []
  }
 ],
 "metadata": {
  "kernelspec": {
   "display_name": "Python 3",
   "language": "python",
   "name": "python3"
  },
  "language_info": {
   "codemirror_mode": {
    "name": "ipython",
    "version": 3
   },
   "file_extension": ".py",
   "mimetype": "text/x-python",
   "name": "python",
   "nbconvert_exporter": "python",
   "pygments_lexer": "ipython3",
   "version": "3.4.1"
  }
 },
 "nbformat": 4,
 "nbformat_minor": 2
}
